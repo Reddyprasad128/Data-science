{
 "cells": [
  {
   "cell_type": "code",
   "execution_count": 31,
   "id": "636527af-f327-4cca-b996-aa63477581e0",
   "metadata": {},
   "outputs": [
    {
     "name": "stdout",
     "output_type": "stream",
     "text": [
      "['age', 'workclass', 'fnlwgt', 'education', 'education_num', 'marital_status', 'occupation', 'relationship', 'race', 'sex', 'capital_gain', 'capital_loss', 'hours_per_week', 'native_country', 'income']\n",
      "['age', 'workclass', 'fnlwgt', 'education', 'education_num', 'marital_status', 'occupation', 'relationship', 'race', 'sex', 'capital_gain', 'capital_loss', 'hours_per_week', 'native_country', 'income']\n"
     ]
    }
   ],
   "source": [
    "import pandas as pd\n",
    "import numpy as np\n",
    "from sklearn.preprocessing import StandardScaler, MinMaxScaler, LabelEncoder\n",
    "from sklearn.ensemble import IsolationForest\n",
    "import seaborn as sns\n",
    "import matplotlib.pyplot as plt\n",
    "import ppscore as pps\n",
    "\n",
    "# Load dataset\n",
    "df = pd.read_csv('adult_with_headers.csv')\n",
    "print(df.columns.tolist())\n",
    "df.columns = df.columns.str.strip().str.lower().str.replace('-', '_').str.replace(' ', '_')\n",
    "print(df.columns.tolist())\n"
   ]
  },
  {
   "cell_type": "code",
   "execution_count": 7,
   "id": "420b3f0f-2772-47f2-9f61-043c74a42252",
   "metadata": {},
   "outputs": [
    {
     "name": "stdout",
     "output_type": "stream",
     "text": [
      "<class 'pandas.core.frame.DataFrame'>\n",
      "RangeIndex: 32561 entries, 0 to 32560\n",
      "Data columns (total 15 columns):\n",
      " #   Column          Non-Null Count  Dtype \n",
      "---  ------          --------------  ----- \n",
      " 0   age             32561 non-null  int64 \n",
      " 1   workclass       32561 non-null  object\n",
      " 2   fnlwgt          32561 non-null  int64 \n",
      " 3   education       32561 non-null  object\n",
      " 4   education_num   32561 non-null  int64 \n",
      " 5   marital_status  32561 non-null  object\n",
      " 6   occupation      32561 non-null  object\n",
      " 7   relationship    32561 non-null  object\n",
      " 8   race            32561 non-null  object\n",
      " 9   sex             32561 non-null  object\n",
      " 10  capital_gain    32561 non-null  int64 \n",
      " 11  capital_loss    32561 non-null  int64 \n",
      " 12  hours_per_week  32561 non-null  int64 \n",
      " 13  native_country  32561 non-null  object\n",
      " 14  income          32561 non-null  object\n",
      "dtypes: int64(6), object(9)\n",
      "memory usage: 3.7+ MB\n",
      "None\n",
      "                 age workclass        fnlwgt education  education_num  \\\n",
      "count   32561.000000     32561  3.256100e+04     32561   32561.000000   \n",
      "unique           NaN         9           NaN        16            NaN   \n",
      "top              NaN   Private           NaN   HS-grad            NaN   \n",
      "freq             NaN     22696           NaN     10501            NaN   \n",
      "mean       38.581647       NaN  1.897784e+05       NaN      10.080679   \n",
      "std        13.640433       NaN  1.055500e+05       NaN       2.572720   \n",
      "min        17.000000       NaN  1.228500e+04       NaN       1.000000   \n",
      "25%        28.000000       NaN  1.178270e+05       NaN       9.000000   \n",
      "50%        37.000000       NaN  1.783560e+05       NaN      10.000000   \n",
      "75%        48.000000       NaN  2.370510e+05       NaN      12.000000   \n",
      "max        90.000000       NaN  1.484705e+06       NaN      16.000000   \n",
      "\n",
      "             marital_status       occupation relationship    race    sex  \\\n",
      "count                 32561            32561        32561   32561  32561   \n",
      "unique                    7               15            6       5      2   \n",
      "top      Married-civ-spouse   Prof-specialty      Husband   White   Male   \n",
      "freq                  14976             4140        13193   27816  21790   \n",
      "mean                    NaN              NaN          NaN     NaN    NaN   \n",
      "std                     NaN              NaN          NaN     NaN    NaN   \n",
      "min                     NaN              NaN          NaN     NaN    NaN   \n",
      "25%                     NaN              NaN          NaN     NaN    NaN   \n",
      "50%                     NaN              NaN          NaN     NaN    NaN   \n",
      "75%                     NaN              NaN          NaN     NaN    NaN   \n",
      "max                     NaN              NaN          NaN     NaN    NaN   \n",
      "\n",
      "        capital_gain  capital_loss  hours_per_week  native_country  income  \n",
      "count   32561.000000  32561.000000    32561.000000           32561   32561  \n",
      "unique           NaN           NaN             NaN              42       2  \n",
      "top              NaN           NaN             NaN   United-States   <=50K  \n",
      "freq             NaN           NaN             NaN           29170   24720  \n",
      "mean     1077.648844     87.303830       40.437456             NaN     NaN  \n",
      "std      7385.292085    402.960219       12.347429             NaN     NaN  \n",
      "min         0.000000      0.000000        1.000000             NaN     NaN  \n",
      "25%         0.000000      0.000000       40.000000             NaN     NaN  \n",
      "50%         0.000000      0.000000       40.000000             NaN     NaN  \n",
      "75%         0.000000      0.000000       45.000000             NaN     NaN  \n",
      "max     99999.000000   4356.000000       99.000000             NaN     NaN  \n"
     ]
    }
   ],
   "source": [
    "# 1. Data Exploration and Preprocessing\n",
    "print(df.info())\n",
    "print(df.describe(include='all'))"
   ]
  },
  {
   "cell_type": "code",
   "execution_count": 9,
   "id": "b0e03c6e-c113-4d23-997a-3702168f372f",
   "metadata": {},
   "outputs": [],
   "source": [
    "# Replace missing values marked as '?' with NaN\n",
    "df.replace('?', np.nan, inplace=True)"
   ]
  },
  {
   "cell_type": "code",
   "execution_count": 11,
   "id": "35398519-0315-4c8a-a56b-1033131adad9",
   "metadata": {},
   "outputs": [],
   "source": [
    "# Handle missing values\n",
    "df.dropna(inplace=True)"
   ]
  },
  {
   "cell_type": "code",
   "execution_count": 13,
   "id": "4a7bf734-f6ef-421d-9176-0906df9db20f",
   "metadata": {},
   "outputs": [],
   "source": [
    "# Identify numerical and categorical features\n",
    "numerical = df.select_dtypes(include=['int64', 'float64']).columns.tolist()\n",
    "categorical = df.select_dtypes(include=['object']).columns.tolist()"
   ]
  },
  {
   "cell_type": "code",
   "execution_count": 15,
   "id": "1c9e4f52-f1b7-41c1-8438-377d5f1e8aca",
   "metadata": {},
   "outputs": [],
   "source": [
    "# Scaling - Standard and MinMax\n",
    "scaler_std = StandardScaler()\n",
    "scaler_minmax = MinMaxScaler()\n",
    "\n",
    "df_std_scaled = df.copy()\n",
    "df_std_scaled[numerical] = scaler_std.fit_transform(df[numerical])\n",
    "\n",
    "df_minmax_scaled = df.copy()\n",
    "df_minmax_scaled[numerical] = scaler_minmax.fit_transform(df[numerical])\n"
   ]
  },
  {
   "cell_type": "code",
   "execution_count": 33,
   "id": "9354eba7-8dd3-4ca9-bb4d-c460117835b8",
   "metadata": {},
   "outputs": [],
   "source": [
    "# 2. Encoding Techniques\n",
    "df_encoded = df.copy()\n",
    "df_encoded.columns = df_encoded.columns.str.strip().str.lower().str.replace('-', '_').str.replace(' ', '_')\n",
    "for col in categorical:\n",
    "    if df_encoded[col].nunique() < 5:\n",
    "        df_encoded = pd.get_dummies(df_encoded, columns=[col])\n",
    "    else:\n",
    "        le = LabelEncoder()\n",
    "        df_encoded[col] = le.fit_transform(df_encoded[col])"
   ]
  },
  {
   "cell_type": "code",
   "execution_count": 39,
   "id": "9f5dad61-03be-402d-9b5f-82ee88bf2908",
   "metadata": {},
   "outputs": [],
   "source": [
    "df_encoded['capital_gain_log'] = np.log1p(df_encoded['capital_gain'])"
   ]
  },
  {
   "cell_type": "code",
   "execution_count": 41,
   "id": "312c5f1d-3537-41a0-b69e-70b7a6f2971c",
   "metadata": {},
   "outputs": [],
   "source": [
    "df_encoded['capital_loss_log'] = np.log1p(df_encoded['capital_loss'])\n",
    "df_encoded['working_hours_group'] = pd.cut(\n",
    "    df_encoded['hours_per_week'],\n",
    "    bins=[0, 20, 40, 60, 100],\n",
    "    labels=['Low', 'Medium', 'High', 'Very High']\n",
    ")"
   ]
  },
  {
   "cell_type": "code",
   "execution_count": 49,
   "id": "39354fa8-90aa-40a9-8cda-493a313d0900",
   "metadata": {},
   "outputs": [],
   "source": [
    "# Transform skewed numerical feature\n",
    "df_encoded['capital_loss_log'] = np.log1p(df_encoded['capital_loss'])"
   ]
  },
  {
   "cell_type": "code",
   "execution_count": 51,
   "id": "c27763a3-56d6-46be-b2f1-b1f844bbd9aa",
   "metadata": {},
   "outputs": [],
   "source": [
    "# Outlier detection and removal using Isolation Forest\n",
    "iso = IsolationForest(contamination=0.01, random_state=42)\n",
    "outliers = iso.fit_predict(df_encoded[numerical])\n",
    "df_encoded['outlier'] = outliers\n",
    "df_no_outliers = df_encoded[df_encoded['outlier'] == 1].drop(columns='outlier')"
   ]
  },
  {
   "cell_type": "code",
   "execution_count": 53,
   "id": "275626ec-817a-4322-9467-e2b53b1432c4",
   "metadata": {},
   "outputs": [],
   "source": [
    "# PPS analysis\n",
    "pps_matrix = pps.matrix(df_no_outliers)\n",
    "pps_filtered = pps_matrix[pps_matrix['ppscore'] > 0.1]\n"
   ]
  },
  {
   "cell_type": "code",
   "execution_count": 55,
   "id": "a11b9521-7224-47db-9e33-27d6605d2029",
   "metadata": {},
   "outputs": [
    {
     "data": {
      "image/png": "[encoded data removed]",
      "text/plain": [
       "<Figure size 1000x800 with 2 Axes>"
      ]
     },
     "metadata": {},
     "output_type": "display_data"
    }
   ],
   "source": [
    "# Correlation matrix for comparison\n",
    "corr = df_no_outliers[numerical].corr()\n",
    "\n",
    "# Visualization\n",
    "plt.figure(figsize=(10, 8))\n",
    "sns.heatmap(corr, annot=True, cmap='coolwarm')\n",
    "plt.title(\"Correlation Matrix\")\n",
    "plt.show()\n",
    "\n",
    "pps_matrix = pps.matrix(df_no_outliers)\n",
    "pps_filtered = pps_matrix[pps_matrix['ppscore'] > 0.1]"
   ]
  },
  {
   "cell_type": "code",
   "execution_count": 57,
   "id": "a3f3b973-a80b-444f-8bdd-f0aef8eecc22",
   "metadata": {},
   "outputs": [
    {
     "name": "stdout",
     "output_type": "stream",
     "text": [
      "                  x                    y  ppscore\n",
      "0               age                  age      1.0\n",
      "293       sex_ Male          sex_ Female      1.0\n",
      "210    capital_loss         capital_loss      1.0\n",
      "231  hours_per_week       hours_per_week      1.0\n",
      "239  hours_per_week  working_hours_group      1.0\n"
     ]
    }
   ],
   "source": [
    " #Show top relationships\n",
    "print(pps_filtered[['x', 'y', 'ppscore']].sort_values(by='ppscore', ascending=False).head())\n"
   ]
  },
  {
   "cell_type": "code",
   "execution_count": null,
   "id": "13f66d77-ae32-4066-b523-a4c290a51f27",
   "metadata": {},
   "outputs": [],
   "source": []
  }
 ],
 "metadata": {
  "kernelspec": {
   "display_name": "Python 3 (ipykernel)",
   "language": "python",
   "name": "python3"
  },
  "language_info": {
   "codemirror_mode": {
    "name": "ipython",
    "version": 3
   },
   "file_extension": ".py",
   "mimetype": "text/x-python",
   "name": "python",
   "nbconvert_exporter": "python",
   "pygments_lexer": "ipython3",
   "version": "3.11.7"
  }
 },
 "nbformat": 4,
 "nbformat_minor": 5
}
