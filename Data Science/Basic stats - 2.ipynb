{
 "cells": [
  {
   "cell_type": "code",
   "execution_count": 2,
   "id": "9ee0edcb-a39c-4faa-aa9a-3533095dd7af",
   "metadata": {},
   "outputs": [
    {
     "name": "stdout",
     "output_type": "stream",
     "text": [
      "Sample Mean: 1.2386666666666666\n",
      "Sample Standard Deviation: 0.19316412956959936\n"
     ]
    }
   ],
   "source": [
    "import numpy as np\n",
    "import scipy.stats as stats\n",
    "\n",
    "# Sample data\n",
    "durability = np.array([1.13, 1.55, 1.43, 0.92, 1.25, 1.36, 1.32, 0.85, 1.07, 1.48,\n",
    "                       1.20, 1.33, 1.18, 1.22, 1.29])\n",
    "\n",
    "# Step 1: Calculate sample statistics\n",
    "n = len(durability)\n",
    "mean = np.mean(durability)\n",
    "sample_std = np.std(durability, ddof=1)  # ddof=1 for sample std deviation\n",
    "\n",
    "print(\"Sample Mean:\", mean)\n",
    "print(\"Sample Standard Deviation:\", sample_std)\n"
   ]
  },
  {
   "cell_type": "code",
   "execution_count": 4,
   "id": "d968e596-12d4-408a-b6f8-50ff6a4af76e",
   "metadata": {},
   "outputs": [
    {
     "name": "stdout",
     "output_type": "stream",
     "text": [
      "\n",
      "99% Confidence Interval using sample std (t-distribution): (1.0902, 1.3871)\n"
     ]
    }
   ],
   "source": [
    "# Step 2: Get the t-critical value\n",
    "confidence = 0.99\n",
    "alpha = 1 - confidence\n",
    "t_critical = stats.t.ppf(1 - alpha/2, df=n-1)\n",
    "\n",
    "# Step 3: Calculate margin of error\n",
    "margin_of_error_t = t_critical * (sample_std / np.sqrt(n))\n",
    "\n",
    "# Step 4: Construct confidence interval\n",
    "ci_lower_t = mean - margin_of_error_t\n",
    "ci_upper_t = mean + margin_of_error_t\n",
    "\n",
    "print(f\"\\n99% Confidence Interval using sample std (t-distribution): ({ci_lower_t:.4f}, {ci_upper_t:.4f})\")\n"
   ]
  },
  {
   "cell_type": "code",
   "execution_count": 6,
   "id": "40a8c7fe-0ede-4754-89e6-ba8b1bcd1554",
   "metadata": {},
   "outputs": [
    {
     "name": "stdout",
     "output_type": "stream",
     "text": [
      "\n",
      "99% Confidence Interval using population std (z-distribution): (1.1057, 1.3717)\n"
     ]
    }
   ],
   "source": [
    "# Step 5: Known population standard deviation\n",
    "pop_std = 0.2\n",
    "\n",
    "# Step 6: Get z-critical value\n",
    "z_critical = stats.norm.ppf(1 - alpha/2)\n",
    "\n",
    "# Step 7: Calculate margin of error\n",
    "margin_of_error_z = z_critical * (pop_std / np.sqrt(n))\n",
    "\n",
    "# Step 8: Construct confidence interval\n",
    "ci_lower_z = mean - margin_of_error_z\n",
    "ci_upper_z = mean + margin_of_error_z\n",
    "\n",
    "print(f\"\\n99% Confidence Interval using population std (z-distribution): ({ci_lower_z:.4f}, {ci_upper_z:.4f})\")\n"
   ]
  },
  {
   "cell_type": "code",
   "execution_count": null,
   "id": "95b9cef0-983b-46aa-87d0-730b32a1adf8",
   "metadata": {},
   "outputs": [],
   "source": []
  }
 ],
 "metadata": {
  "kernelspec": {
   "display_name": "Python [conda env:base] *",
   "language": "python",
   "name": "conda-base-py"
  },
  "language_info": {
   "codemirror_mode": {
    "name": "ipython",
    "version": 3
   },
   "file_extension": ".py",
   "mimetype": "text/x-python",
   "name": "python",
   "nbconvert_exporter": "python",
   "pygments_lexer": "ipython3",
   "version": "3.12.7"
  }
 },
 "nbformat": 4,
 "nbformat_minor": 5
}
