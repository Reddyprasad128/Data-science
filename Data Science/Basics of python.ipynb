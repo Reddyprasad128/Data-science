{
 "cells": [
  {
   "cell_type": "code",
   "execution_count": 6,
   "id": "b6d0f9ee-d2d3-41e5-85a4-7dd0c627cf7f",
   "metadata": {},
   "outputs": [
    {
     "name": "stdin",
     "output_type": "stream",
     "text": [
      "Enter a number to check if it's prime:  17\n"
     ]
    },
    {
     "name": "stdout",
     "output_type": "stream",
     "text": [
      "17 is a prime number.\n"
     ]
    }
   ],
   "source": [
    "def is_prime(n):\n",
    "    \"\"\"Check if a number is prime.\"\"\"\n",
    "    if n <= 1:\n",
    "        return False\n",
    "    for i in range(2, int(n**0.5) + 1):\n",
    "        if n % i == 0:\n",
    "            return False\n",
    "    return True\n",
    "\n",
    "# Example usage\n",
    "number = int(input(\"Enter a number to check if it's prime: \"))\n",
    "if is_prime(number):\n",
    "    print(f\"{number} is a prime number.\")\n",
    "else:\n",
    "    print(f\"{number} is not a prime number.\")\n"
   ]
  },
  {
   "cell_type": "code",
   "execution_count": 4,
   "id": "2a143dc4-ac0c-48db-aa2e-5fb9406f2655",
   "metadata": {},
   "outputs": [
    {
     "name": "stdin",
     "output_type": "stream",
     "text": [
      "What is the product of 7 and 9?  63\n"
     ]
    },
    {
     "name": "stdout",
     "output_type": "stream",
     "text": [
      "Correct! Well done.\n"
     ]
    }
   ],
   "source": [
    "import random\n",
    "\n",
    "# Generate two random integers\n",
    "a = random.randint(1, 10)\n",
    "b = random.randint(1, 10)\n",
    "\n",
    "# Ask user to input the product\n",
    "user_answer = int(input(f\"What is the product of {a} and {b}? \"))\n",
    "\n",
    "# Check if correct\n",
    "if user_answer == a * b:\n",
    "    print(\"Correct! Well done.\")\n",
    "else:\n",
    "    print(f\"Incorrect. The correct answer is {a * b}.\")\n"
   ]
  },
  {
   "cell_type": "code",
   "execution_count": 8,
   "id": "5cb313a6-02b6-4e4e-b1db-c1b5660e4e63",
   "metadata": {},
   "outputs": [
    {
     "name": "stdout",
     "output_type": "stream",
     "text": [
      "Squares of odd numbers from 100 to 200:\n",
      "101^2 = 10201\n",
      "103^2 = 10609\n",
      "105^2 = 11025\n",
      "107^2 = 11449\n",
      "109^2 = 11881\n",
      "111^2 = 12321\n",
      "113^2 = 12769\n",
      "115^2 = 13225\n",
      "117^2 = 13689\n",
      "119^2 = 14161\n",
      "121^2 = 14641\n",
      "123^2 = 15129\n",
      "125^2 = 15625\n",
      "127^2 = 16129\n",
      "129^2 = 16641\n",
      "131^2 = 17161\n",
      "133^2 = 17689\n",
      "135^2 = 18225\n",
      "137^2 = 18769\n",
      "139^2 = 19321\n",
      "141^2 = 19881\n",
      "143^2 = 20449\n",
      "145^2 = 21025\n",
      "147^2 = 21609\n",
      "149^2 = 22201\n",
      "151^2 = 22801\n",
      "153^2 = 23409\n",
      "155^2 = 24025\n",
      "157^2 = 24649\n",
      "159^2 = 25281\n",
      "161^2 = 25921\n",
      "163^2 = 26569\n",
      "165^2 = 27225\n",
      "167^2 = 27889\n",
      "169^2 = 28561\n",
      "171^2 = 29241\n",
      "173^2 = 29929\n",
      "175^2 = 30625\n",
      "177^2 = 31329\n",
      "179^2 = 32041\n",
      "181^2 = 32761\n",
      "183^2 = 33489\n",
      "185^2 = 34225\n",
      "187^2 = 34969\n",
      "189^2 = 35721\n",
      "191^2 = 36481\n",
      "193^2 = 37249\n",
      "195^2 = 38025\n",
      "197^2 = 38809\n",
      "199^2 = 39601\n"
     ]
    }
   ],
   "source": [
    "print(\"Squares of odd numbers from 100 to 200:\")\n",
    "\n",
    "for i in range(101, 201, 2):  # Starting at 101 ensures we get only odd numbers\n",
    "    print(f\"{i}^2 = {i**2}\")\n"
   ]
  },
  {
   "cell_type": "code",
   "execution_count": 10,
   "id": "1c648f87-005b-45af-b537-53bf91e82d96",
   "metadata": {},
   "outputs": [
    {
     "name": "stdout",
     "output_type": "stream",
     "text": [
      "'This': 2\n",
      "'is': 1\n",
      "'a': 1\n",
      "'sample': 1\n",
      "'text.': 1\n",
      "'text': 1\n",
      "'will': 1\n",
      "'be': 1\n",
      "'used': 1\n",
      "'to': 1\n",
      "'demonstrate': 1\n",
      "'the': 1\n",
      "'word': 1\n",
      "'counter.': 1\n"
     ]
    }
   ],
   "source": [
    "from collections import Counter\n",
    "\n",
    "input_text = \"This is a sample text. This text will be used to demonstrate the word counter.\"\n",
    "words = input_text.split()\n",
    "\n",
    "# Count word frequencies\n",
    "word_count = Counter(words)\n",
    "\n",
    "# Display the result\n",
    "for word, count in word_count.items():\n",
    "    print(f\"'{word}': {count}\")\n"
   ]
  },
  {
   "cell_type": "code",
   "execution_count": 16,
   "id": "7710256b-a741-423f-a205-7792172074dd",
   "metadata": {},
   "outputs": [
    {
     "name": "stdin",
     "output_type": "stream",
     "text": [
      "Enter a string to check for palindrome:  121\n"
     ]
    },
    {
     "name": "stdout",
     "output_type": "stream",
     "text": [
      "It's a palindrome!\n"
     ]
    }
   ],
   "source": [
    "import re\n",
    "\n",
    "def is_palindrome(s):\n",
    "    \"\"\"Check if the string is a palindrome (ignoring punctuation, spaces, case).\"\"\"\n",
    "    s = re.sub(r'[^a-zA-Z0-9]', '', s).lower()\n",
    "    return s == s[::-1]\n",
    "\n",
    "# Example usage\n",
    "user_input = input(\"Enter a string to check for palindrome: \")\n",
    "if is_palindrome(user_input):\n",
    "    print(\"It's a palindrome!\")\n",
    "else:\n",
    "    print(\"It's not a palindrome.\")\n"
   ]
  },
  {
   "cell_type": "code",
   "execution_count": null,
   "id": "fd65872a-255e-4b62-8783-9003b0d5dfbc",
   "metadata": {},
   "outputs": [],
   "source": []
  }
 ],
 "metadata": {
  "kernelspec": {
   "display_name": "Python [conda env:base] *",
   "language": "python",
   "name": "conda-base-py"
  },
  "language_info": {
   "codemirror_mode": {
    "name": "ipython",
    "version": 3
   },
   "file_extension": ".py",
   "mimetype": "text/x-python",
   "name": "python",
   "nbconvert_exporter": "python",
   "pygments_lexer": "ipython3",
   "version": "3.12.7"
  }
 },
 "nbformat": 4,
 "nbformat_minor": 5
}
