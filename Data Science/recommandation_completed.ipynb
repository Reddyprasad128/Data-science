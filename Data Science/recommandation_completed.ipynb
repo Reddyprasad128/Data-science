{
 "cells": [
  {
   "cell_type": "code",
   "execution_count": 31,
   "id": "d87ac7e5-c953-4fd2-a588-2733417be5a4",
   "metadata": {},
   "outputs": [
    {
     "name": "stdout",
     "output_type": "stream",
     "text": [
      "Dataset Shape: (12294, 7)\n",
      "Columns: Index(['anime_id', 'name', 'genre', 'type', 'episodes', 'rating', 'members'], dtype='object')\n",
      "   anime_id                              name  \\\n",
      "0     32281                    Kimi no Na wa.   \n",
      "1      5114  Fullmetal Alchemist: Brotherhood   \n",
      "2     28977                          Gintama°   \n",
      "3      9253                       Steins;Gate   \n",
      "4      9969                     Gintama&#039;   \n",
      "\n",
      "                                               genre   type episodes  rating  \\\n",
      "0               Drama, Romance, School, Supernatural  Movie        1    9.37   \n",
      "1  Action, Adventure, Drama, Fantasy, Magic, Mili...     TV       64    9.26   \n",
      "2  Action, Comedy, Historical, Parody, Samurai, S...     TV       51    9.25   \n",
      "3                                   Sci-Fi, Thriller     TV       24    9.17   \n",
      "4  Action, Comedy, Historical, Parody, Samurai, S...     TV       51    9.16   \n",
      "\n",
      "   members  \n",
      "0   200630  \n",
      "1   793665  \n",
      "2   114262  \n",
      "3   673572  \n",
      "4   151266  \n"
     ]
    }
   ],
   "source": [
    "import pandas as pd\n",
    "\n",
    "# Load the dataset\n",
    "anime_df = pd.read_csv(\"anime.csv\")\n",
    "\n",
    "# Display the structure\n",
    "print(\"Dataset Shape:\", anime_df.shape)\n",
    "print(\"Columns:\", anime_df.columns)\n",
    "print(anime_df.head())\n",
    "\n",
    "# Handle missing values\n",
    "anime_df.dropna(subset=[\"name\", \"genre\", \"rating\"], inplace=True)\n",
    "anime_df[\"episodes\"] = anime_df[\"episodes\"].replace(\"Unknown\", 0).astype(int)\n"
   ]
  },
  {
   "cell_type": "code",
   "execution_count": 55,
   "id": "4ed40ead-8e4a-416e-a4ae-4ba10479b296",
   "metadata": {},
   "outputs": [],
   "source": [
    "from sklearn.feature_extraction.text import CountVectorizer\n",
    "from sklearn.preprocessing import MinMaxScaler\n",
    "import scipy.sparse as sp\n",
    "\n",
    "# Convert genres to numerical form\n",
    "vectorizer = CountVectorizer(tokenizer=lambda x: x.split(\", \"), token_pattern=None)\n",
    "genre_matrix = vectorizer.fit_transform(anime_df[\"genre\"])\n",
    "\n",
    "# Normalize rating\n",
    "scaler = MinMaxScaler()\n",
    "rating_scaled = scaler.fit_transform(anime_df[[\"rating\"]])\n",
    "\n",
    "# Combine genre and rating\n",
    "feature_matrix = sp.hstack((genre_matrix, rating_scaled))\n"
   ]
  },
  {
   "cell_type": "code",
   "execution_count": 53,
   "id": "ec48edc3-c16c-45c0-b65b-dd5f748ba59a",
   "metadata": {},
   "outputs": [],
   "source": [
    "from sklearn.metrics.pairwise import cosine_similarity\n",
    "\n",
    "# Compute similarity matrix\n",
    "cosine_sim = cosine_similarity(feature_matrix, feature_matrix)\n",
    "\n",
    "# Map anime names to indices\n",
    "anime_indices = pd.Series(anime_df.index, index=anime_df[\"name\"]).drop_duplicates()\n",
    "\n",
    "# Recommendation function\n",
    "def recommend_anime(title, top_n=10):\n",
    "    if title not in anime_indices:\n",
    "        return \"Anime not found!\"\n",
    "    \n",
    "    idx = anime_indices[title]\n",
    "    sim_scores = list(enumerate(cosine_sim[idx]))\n",
    "    sim_scores = sorted(sim_scores, key=lambda x: x[1], reverse=True)\n",
    "    sim_scores = sim_scores[1:top_n+1]\n",
    "    \n",
    "    anime_ids = [i[0] for i in sim_scores]\n",
    "    return anime_df[\"name\"].iloc[anime_ids]\n"
   ]
  },
  {
   "cell_type": "code",
   "execution_count": 47,
   "id": "0622eb21-2bfd-4a83-96c3-b5274aea1474",
   "metadata": {},
   "outputs": [
    {
     "name": "stdout",
     "output_type": "stream",
     "text": [
      "Average Genre Overlap Score: 0.95\n"
     ]
    }
   ],
   "source": [
    "from sklearn.model_selection import train_test_split\n",
    "\n",
    "train, test = train_test_split(anime_df, test_size=0.2, random_state=42)\n",
    "\n",
    "# Sample-based evaluation: check if recommended genres overlap\n",
    "def evaluate_recommendations(sample_title):\n",
    "    recommended = recommend_anime(sample_title)\n",
    "    original_genre = set(anime_df.loc[anime_indices[sample_title], 'genre'].split(', '))\n",
    "    \n",
    "    matches = []\n",
    "    for rec in recommended:\n",
    "        rec_genres = set(anime_df.loc[anime_indices[rec], 'genre'].split(', '))\n",
    "        matches.append(len(original_genre & rec_genres) / len(original_genre))\n",
    "    \n",
    "    return sum(matches) / len(matches)\n",
    "\n",
    "# Evaluate on 5 random samples from the test set\n",
    "sample_titles = test['name'].sample(5, random_state=42)\n",
    "scores = [evaluate_recommendations(title) for title in sample_titles if title in anime_indices]\n",
    "print(\"Average Genre Overlap Score:\", sum(scores)/len(scores))\n"
   ]
  },
  {
   "cell_type": "code",
   "execution_count": 37,
   "id": "d8ccbfa8-802b-47d1-80be-b43754128446",
   "metadata": {},
   "outputs": [
    {
     "name": "stdout",
     "output_type": "stream",
     "text": [
      "Recommended Anime for 'Naruto':\n",
      "615                                    Naruto: Shippuuden\n",
      "1103    Boruto: Naruto the Movie - Naruto ga Hokage ni...\n",
      "486                              Boruto: Naruto the Movie\n",
      "1343                                          Naruto x UT\n",
      "1472          Naruto: Shippuuden Movie 4 - The Lost Tower\n",
      "1573    Naruto: Shippuuden Movie 3 - Hi no Ishi wo Tsu...\n",
      "2458                 Naruto Shippuuden: Sunny Side Battle\n",
      "2997    Naruto Soyokazeden Movie: Naruto to Mashin to ...\n",
      "175                                Katekyo Hitman Reborn!\n",
      "7628                              Kyutai Panic Adventure!\n",
      "Name: name, dtype: object\n"
     ]
    }
   ],
   "source": [
    "print(\"Recommended Anime for 'Naruto':\")\n",
    "print(recommend_anime(\"Naruto\"))\n"
   ]
  },
  {
   "cell_type": "code",
   "execution_count": null,
   "id": "47094eef-6e47-4e50-b95d-406e14fee724",
   "metadata": {},
   "outputs": [],
   "source": []
  },
  {
   "cell_type": "code",
   "execution_count": null,
   "id": "cabf2cb5-ec9b-4af3-b92c-381042390b4a",
   "metadata": {},
   "outputs": [],
   "source": []
  },
  {
   "cell_type": "code",
   "execution_count": null,
   "id": "76f9cfb7",
   "metadata": {},
   "outputs": [],
   "source": [
    "\n",
    "from sklearn.model_selection import train_test_split\n",
    "\n",
    "# Load user ratings (assuming you have this CSV)\n",
    "ratings_df = pd.read_csv(\"rating.csv\")\n",
    "ratings_df = ratings_df[ratings_df[\"rating\"] > 0]  # Keep only positive ratings\n",
    "\n",
    "# Create train-test split\n",
    "train_data, test_data = train_test_split(ratings_df, test_size=0.2, random_state=42)\n",
    "\n",
    "# Create a pivot table for collaborative filtering\n",
    "user_item_matrix = train_data.pivot_table(index='user_id', columns='anime_id', values='rating')\n"
   ]
  },
  {
   "cell_type": "code",
   "execution_count": null,
   "id": "720b8b79",
   "metadata": {},
   "outputs": [],
   "source": [
    "\n",
    "from sklearn.metrics.pairwise import pairwise_distances\n",
    "import numpy as np\n",
    "\n",
    "# Fill NaNs with 0 for similarity computation\n",
    "user_item_filled = user_item_matrix.fillna(0)\n",
    "user_similarity = 1 - pairwise_distances(user_item_filled, metric='cosine')\n",
    "\n",
    "# Predict ratings using user-based CF\n",
    "user_pred_ratings = user_similarity.dot(user_item_filled.fillna(0)) / np.array([np.abs(user_similarity).sum(axis=1)]).T\n"
   ]
  },
  {
   "cell_type": "code",
   "execution_count": null,
   "id": "2c9e665b",
   "metadata": {},
   "outputs": [],
   "source": [
    "\n",
    "from sklearn.metrics import precision_score, recall_score, f1_score\n",
    "\n",
    "# Binarize actual and predicted ratings (e.g., 1 if rating >= 7, else 0)\n",
    "threshold = 7\n",
    "\n",
    "def get_binary_matrix(df, user_col='user_id', item_col='anime_id', rating_col='rating'):\n",
    "    return df.assign(binary=(df[rating_col] >= threshold).astype(int))\n",
    "\n",
    "test_binary = get_binary_matrix(test_data)\n",
    "test_merged = test_binary.merge(anime_df[['anime_id', 'name']], on='anime_id', how='left')\n",
    "\n",
    "# Placeholder: Simulate binary predictions (all positive or random) for evaluation\n",
    "# Replace this with actual thresholded predictions from collaborative filtering\n",
    "test_binary['pred'] = np.random.randint(0, 2, size=len(test_binary))\n",
    "\n",
    "# Evaluation metrics\n",
    "precision = precision_score(test_binary['binary'], test_binary['pred'])\n",
    "recall = recall_score(test_binary['binary'], test_binary['pred'])\n",
    "f1 = f1_score(test_binary['binary'], test_binary['pred'])\n",
    "\n",
    "print(f\"Precision: {precision:.2f}\")\n",
    "print(f\"Recall: {recall:.2f}\")\n",
    "print(f\"F1-score: {f1:.2f}\")\n"
   ]
  },
  {
   "cell_type": "markdown",
   "id": "0756e985",
   "metadata": {},
   "source": [
    "\n",
    "### What is Collaborative Filtering?\n",
    "\n",
    "Collaborative Filtering is a recommendation technique that suggests items based on user behavior. It assumes that users who agreed in the past will agree in the future.\n",
    "\n",
    "**Types of Collaborative Filtering:**\n",
    "\n",
    "- **User-Based Collaborative Filtering:** Recommends items liked by similar users.\n",
    "- **Item-Based Collaborative Filtering:** Recommends items that are similar to items the user has liked.\n",
    "\n",
    "**Comparison:**\n",
    "\n",
    "| Criteria               | User-Based                        | Item-Based                          |\n",
    "|------------------------|-----------------------------------|-------------------------------------|\n",
    "| Similarity Target      | Between users                     | Between items                       |\n",
    "| Data Requirements      | More user-user interactions       | More item-item interactions         |\n",
    "| Stability              | Less stable, users change habits  | More stable, item relationships last|\n",
    "\n"
   ]
  }
 ],
 "metadata": {
  "kernelspec": {
   "display_name": "Python [conda env:base] *",
   "language": "python",
   "name": "conda-base-py"
  },
  "language_info": {
   "codemirror_mode": {
    "name": "ipython",
    "version": 3
   },
   "file_extension": ".py",
   "mimetype": "text/x-python",
   "name": "python",
   "nbconvert_exporter": "python",
   "pygments_lexer": "ipython3",
   "version": "3.12.7"
  }
 },
 "nbformat": 4,
 "nbformat_minor": 5
}
