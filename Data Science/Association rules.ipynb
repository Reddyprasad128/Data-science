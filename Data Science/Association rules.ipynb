{
 "cells": [
  {
   "cell_type": "code",
   "execution_count": 10,
   "id": "4bdd52b8-2e6b-424e-b864-4678ed615b15",
   "metadata": {},
   "outputs": [
    {
     "name": "stdout",
     "output_type": "stream",
     "text": [
      "['shrimp,almonds,avocado,vegetables mix,green grapes,whole weat flour,yams,cottage cheese,energy drink,tomato juice,low fat yogurt,green tea,honey,salad,mineral water,salmon,antioxydant juice,frozen smoothie,spinach,olive oil']\n"
     ]
    }
   ],
   "source": [
    "df = pd.read_excel(\"Online retail.xlsx\")\n",
    "print(df.columns.tolist())\n"
   ]
  },
  {
   "cell_type": "code",
   "execution_count": 18,
   "id": "54bb4aaf-b0d8-4392-b262-fda15304f859",
   "metadata": {},
   "outputs": [
    {
     "name": "stdout",
     "output_type": "stream",
     "text": [
      "             antecedents      consequents   support  confidence      lift\n",
      "343  (eggs, ground beef)  (mineral water)  0.010132    0.506667  2.125563\n",
      "377  (milk, ground beef)  (mineral water)  0.011065    0.503030  2.110308\n"
     ]
    }
   ],
   "source": [
    "import pandas as pd\n",
    "from mlxtend.frequent_patterns import apriori, association_rules\n",
    "from mlxtend.preprocessing import TransactionEncoder\n",
    "\n",
    "# Step 1: Load data\n",
    "df = pd.read_excel(\"Online retail.xlsx\", header=None)  # No header\n",
    "transactions = df[0].apply(lambda x: x.split(','))  # Split string into list\n",
    "\n",
    "# Step 2: Convert to One-Hot Encoding\n",
    "te = TransactionEncoder()\n",
    "te_ary = te.fit(transactions).transform(transactions)\n",
    "basket_df = pd.DataFrame(te_ary, columns=te.columns_)\n",
    "\n",
    "# Step 3: Apply Apriori\n",
    "frequent_itemsets = apriori(basket_df, min_support=0.01, use_colnames=True)\n",
    "\n",
    "# Step 4: Generate Rules\n",
    "rules = association_rules(frequent_itemsets, metric=\"lift\", min_threshold=1)\n",
    "rules = rules[(rules['confidence'] >= 0.5) & (rules['lift'] >= 1)]\n",
    "\n",
    "# Step 5: Show results\n",
    "print(rules[['antecedents', 'consequents', 'support', 'confidence', 'lift']])\n"
   ]
  },
  {
   "cell_type": "code",
   "execution_count": null,
   "id": "bd28ae89-18df-469a-b86c-cfba903d072a",
   "metadata": {},
   "outputs": [],
   "source": []
  }
 ],
 "metadata": {
  "kernelspec": {
   "display_name": "Python 3 (ipykernel)",
   "language": "python",
   "name": "python3"
  },
  "language_info": {
   "codemirror_mode": {
    "name": "ipython",
    "version": 3
   },
   "file_extension": ".py",
   "mimetype": "text/x-python",
   "name": "python",
   "nbconvert_exporter": "python",
   "pygments_lexer": "ipython3",
   "version": "3.11.7"
  }
 },
 "nbformat": 4,
 "nbformat_minor": 5
}
